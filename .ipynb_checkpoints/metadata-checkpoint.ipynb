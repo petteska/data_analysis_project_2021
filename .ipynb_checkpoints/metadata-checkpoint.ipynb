{
 "cells": [
  {
   "cell_type": "code",
   "execution_count": 1,
   "id": "7522484f-5b99-4f34-a42c-662abbb4b5ce",
   "metadata": {},
   "outputs": [],
   "source": [
    "import numpy as np\n",
    "import pandas as pd\n",
    "import os\n",
    "import json\n",
    "import matplotlib.pyplot as plt"
   ]
  },
  {
   "cell_type": "markdown",
   "id": "ea560d87-5a00-424d-b50d-82521e2e2328",
   "metadata": {},
   "source": [
    "# Display of Metadata\n",
    "This document will show you a display of the metadata for the the experiment data saved in the directory `./data/`."
   ]
  },
  {
   "cell_type": "markdown",
   "id": "2ba225ed-686b-4d38-8a24-c0d02007b7aa",
   "metadata": {},
   "source": [
    "## Loading data\n",
    "All data is saved in the directory `./data`. Each experiment has its own folder and should contain three elemets:\n",
    " - A `.txt` file with info about the experiment\n",
    " - A folder with EEG data\n",
    " - A folder with data from the Empatica E4\n",
    " \n",
    " This file will care most about the metadata found in the `.txt` file."
   ]
  },
  {
   "cell_type": "code",
   "execution_count": 2,
   "id": "6022636e-5468-4a01-a01b-d4e4f6b49ee6",
   "metadata": {
    "tags": []
   },
   "outputs": [
    {
     "name": "stdout",
     "output_type": "stream",
     "text": [
      "dir Experiment_03_11_21 found\n",
      "Found .txt file Experiment_metadata_Eksperiment_03_11_2021_data.txt\n",
      "reading file\n",
      "File added to experiments\n",
      "dir Experiment_04_11_21 found\n",
      "Found .txt file Experiment_metadata_Eksperiment_4_11_2021_data.txt\n",
      "reading file\n",
      "File added to experiments\n",
      "dir Experiment_05_11_21 found\n",
      "Found .txt file Experiment_metadata_Eksperiment_5_11_2021_data.txt\n",
      "reading file\n",
      "File added to experiments\n",
      "dir Experiment_10_11_21 found\n",
      "Found .txt file Experiment_metadata_Eksperiment_10_11_2021_data.txt\n",
      "reading file\n",
      "File added to experiments\n",
      "dir Experiment_11_11_21_01 found\n",
      "Found .txt file Experiment_metadata_Experiment_11_11_2021_01_data.txt\n",
      "reading file\n",
      "File added to experiments\n",
      "dir Experiment_11_11_21_02 found\n",
      "Found .txt file Experiment_metadata_Eksperiment_11_11_2021_02_data.txt\n",
      "reading file\n",
      "File added to experiments\n",
      "dir Experiment_18_11_21_01 found\n",
      "Found .txt file Experiment_metadata_Experiment_18_11_2021_01_data.txt\n",
      "reading file\n",
      "File added to experiments\n",
      "dir Experiment_18_11_21_02 found\n",
      "Found .txt file Experiment_metadata_Experiment_18_11_2021_02_data.txt\n",
      "reading file\n",
      "File added to experiments\n",
      "dir Experiment_19_11_21_01 found\n",
      "Found .txt file Experiment_metadata_Experiment_19_11_2021_01_data.txt\n",
      "reading file\n",
      "File added to experiments\n",
      "dir Experiment_19_11_21_02 found\n",
      "Found .txt file Experiment_metadata_Eksperiment_19_11_2021_02_data.txt\n",
      "reading file\n",
      "File added to experiments\n"
     ]
    }
   ],
   "source": [
    "# Load the data\n",
    "base_path = './data/'\n",
    "\n",
    "experiments = [] # data from all the experiments\n",
    "\n",
    "for exp_dir in os.scandir(base_path):# Search through experiment folders\n",
    "#     print(exp_dir.name);\n",
    "    if(exp_dir.is_dir()):\n",
    "        print(\"dir %s found\" % exp_dir.name)\n",
    "        for entry in os.scandir(exp_dir.path):\n",
    "            if entry.is_file and entry.name.endswith('.txt'):\n",
    "                print(\"Found .txt file \" + entry.name)\n",
    "                with open(entry.path, 'r') as f:\n",
    "                    print(\"reading file\")\n",
    "                    exp_data_string = f.readlines()[-1]\n",
    "                    exp_data = json.loads(exp_data_string)\n",
    "                    experiments.append(exp_data)\n",
    "                    print(\"File added to experiments\")\n",
    "            else:\n",
    "                continue\n",
    "\n",
    "N_experiments = len(experiments)"
   ]
  },
  {
   "cell_type": "markdown",
   "id": "6f54e7ff-6d41-4f4e-986e-986c16a6cd96",
   "metadata": {},
   "source": [
    "## Extracting information\n",
    "Now we wish to have an overview over the different information from all the experiments."
   ]
  },
  {
   "cell_type": "code",
   "execution_count": 3,
   "id": "6cab48b6-3d6b-47d4-adec-7ffef6d21012",
   "metadata": {},
   "outputs": [
    {
     "name": "stdout",
     "output_type": "stream",
     "text": [
      "{'baseline': [], 'sad': [-2.0, -4.0, -4.0, -2.0, -2.0, -2.0, -4.0, -4.0, -5.0, -4.0], 'relaxed': [1.0, 2.0, -2.0, -2.0, 1.0, 1.0, 2.0, 2.0, 1.0, 3.0], 'excited': [3.0, 5.0, 2.0, 2.0, 2.0, 2.0, 2.0, 2.0, 2.0, 3.0], 'afraid': [1.0, -2.0, -2.0, -1.0, -2.0, 0.0, -4.0, -2.0, 0.0, -2.0]}\n"
     ]
    }
   ],
   "source": [
    "# Extracting information\n",
    "consent = []\n",
    "date = []\n",
    "start_time = []\n",
    "\n",
    "SAM_change_valence = {'baseline' : [], 'sad' : [], 'relaxed' : [], 'excited' : [], 'afraid' : []}\n",
    "SAM_change_arousal = {'baseline' : [], 'sad' : [], 'relaxed' : [], 'excited' : [], 'afraid' : []}\n",
    "\n",
    "SAM_after_valence = {'baseline' : [], 'sad' : [], 'relaxed' : [], 'excited' : [], 'afraid' : []}\n",
    "SAM_after_arousal = {'baseline' : [], 'sad' : [], 'relaxed' : [], 'excited' : [], 'afraid' : []}\n",
    "# experiments = experiments[0]\n",
    "\n",
    "# experiments = [experiments[0]]\n",
    "\n",
    "for exp in experiments: \n",
    "#     print(exp.keys())\n",
    "    \n",
    "    # Consent\n",
    "    consent.append(bool(exp[\"consent\"]))\n",
    "    \n",
    "    # Date\n",
    "    date.append(exp[\"start_date\"])\n",
    "    \n",
    "    # Start time\n",
    "    start_time.append(exp[\"start_time\"])\n",
    "    \n",
    "    # Change in self-assessment values\n",
    "    emotion_data = exp[\"emotion_data\"]\n",
    "    for emotion,data in emotion_data.items():\n",
    "#         print(emotion)\n",
    "        \n",
    "        if emotion == \"baseline\": # Baseline does currently not have a pre and post SAM\n",
    "            continue\n",
    "        \n",
    "        # Valence\n",
    "        valence_before = float(data[\"pre_self_assessment\"][\"SAM\"][\"valence\"]) - 5\n",
    "        valence_after = float(data[\"post_self_assessment\"][\"SAM\"][\"valence\"]) - 5\n",
    "\n",
    "        SAM_change_valence[emotion].append(valence_after - valence_before)\n",
    "        SAM_after_valence[emotion].append(valence_after)\n",
    "        \n",
    "        # Arousal\n",
    "        arousal_before = float(data[\"pre_self_assessment\"][\"SAM\"][\"arousal\"]) - 5 # shift so it centers at origin\n",
    "        arousal_after = float(data[\"post_self_assessment\"][\"SAM\"][\"arousal\"]) - 5\n",
    "        \n",
    "        SAM_change_arousal[emotion].append(arousal_after - arousal_before)\n",
    "        SAM_after_arousal[emotion].append(arousal_after)\n",
    "        \n",
    "        \n",
    "\n",
    "print(SAM_change_valence)\n",
    "#     print(SAM_change_arousal)\n",
    "    "
   ]
  },
  {
   "cell_type": "markdown",
   "id": "3f804736-ba5e-4a2e-894a-a2adf767c521",
   "metadata": {
    "tags": []
   },
   "source": [
    "## Plots\n",
    "\n",
    "### Consent"
   ]
  },
  {
   "cell_type": "code",
   "execution_count": 4,
   "id": "d5cceaea-da38-4976-b4ff-7e85decbd7d1",
   "metadata": {},
   "outputs": [
    {
     "data": {
      "image/png": "[encoded data removed]",
      "text/plain": [
       "<Figure size 432x288 with 1 Axes>"
      ]
     },
     "metadata": {
      "needs_background": "light"
     },
     "output_type": "display_data"
    }
   ],
   "source": [
    "# Plotting\n",
    "## Consent\n",
    "plt.bar([1,2],[np.sum(np.array(consent)), len(consent) - np.sum(np.array(consent))], tick_label= [\"True\", \"False\"], color = [\"green\",\"red\"])\n",
    "plt.xlabel(\"Number\")\n",
    "plt.title(\"Consent\")\n",
    "\n",
    "plt.show()\n"
   ]
  },
  {
   "cell_type": "markdown",
   "id": "caf45fa3-62e7-4a68-8bbd-8c531e775beb",
   "metadata": {},
   "source": [
    "### Date and time\n"
   ]
  },
  {
   "cell_type": "code",
   "execution_count": 5,
   "id": "3f7a6f5f-2349-460e-87da-af15cd98c9cb",
   "metadata": {},
   "outputs": [],
   "source": [
    "# Date\n",
    "dates = list.sort(date)\n",
    "\n",
    "# Time\n",
    "times = list.sort(start_time)\n"
   ]
  },
  {
   "cell_type": "markdown",
   "id": "b15ed9b6-dec1-4beb-8043-cc3dbf1bf737",
   "metadata": {},
   "source": [
    "### Self assessment change"
   ]
  },
  {
   "cell_type": "code",
   "execution_count": 6,
   "id": "ca60938c-aeaa-4d67-bf15-58d9a3366537",
   "metadata": {},
   "outputs": [
    {
     "data": {
      "image/png": "[encoded data removed]",
      "text/plain": [
       "<Figure size 432x288 with 1 Axes>"
      ]
     },
     "metadata": {
      "needs_background": "light"
     },
     "output_type": "display_data"
    },
    {
     "data": {
      "image/png": "[encoded data removed]",
      "text/plain": [
       "<Figure size 432x288 with 1 Axes>"
      ]
     },
     "metadata": {
      "needs_background": "light"
     },
     "output_type": "display_data"
    }
   ],
   "source": [
    "x_values = [\"sad\", \"relaxed\", \"excited\", \"afraid\"]\n",
    "colors = [\"r\", \"b\", \"g\", \"y\"]\n",
    "\n",
    "# Valence\n",
    "y_valence = list(SAM_change_valence.values())\n",
    "y_valence = np.array(y_valence[1:])\n",
    "# print(y_values)\n",
    "# print(y_values[:,0])\n",
    "\n",
    "plt.figure()\n",
    "for i in range(N_experiments):\n",
    "    plt.scatter(x_values, y_valence[:,i], zorder=3)\n",
    "\n",
    "plt.grid()\n",
    "\n",
    "plt.axhline(0, color=\"black\")\n",
    "\n",
    "plt.title(\"Change in Valence\")\n",
    "\n",
    "plt.show()\n",
    "\n",
    "\n",
    "# Arousal\n",
    "y_arousal = list(SAM_change_arousal.values())\n",
    "y_arousal = np.array(y_arousal[1:])\n",
    "\n",
    "plt.figure()\n",
    "plt.grid()\n",
    "\n",
    "for i in range(N_experiments):\n",
    "    plt.scatter(x_values, y_arousal[:,i], zorder=3)\n",
    "\n",
    "plt.axhline(0, color=\"black\")\n",
    "\n",
    "plt.title(\"Change in Arousal\")\n",
    "\n",
    "plt.show()\n",
    "\n"
   ]
  },
  {
   "cell_type": "markdown",
   "id": "53d128c8-0c7b-497b-b053-f27e280043ec",
   "metadata": {},
   "source": [
    "#### Valence and arousal for different emotions"
   ]
  },
  {
   "cell_type": "code",
   "execution_count": 7,
   "id": "b2b9f388-f6cf-4323-97f9-f486043f5281",
   "metadata": {},
   "outputs": [
    {
     "data": {
      "image/png": "[encoded data removed]",
      "text/plain": [
       "<Figure size 432x288 with 1 Axes>"
      ]
     },
     "metadata": {
      "needs_background": "light"
     },
     "output_type": "display_data"
    },
    {
     "data": {
      "image/png": "[encoded data removed]",
      "text/plain": [
       "<Figure size 432x288 with 1 Axes>"
      ]
     },
     "metadata": {
      "needs_background": "light"
     },
     "output_type": "display_data"
    }
   ],
   "source": [
    "emotions = [\"sad\", \"excited\",\"relaxed\",\"afraid\"]\n",
    "\n",
    "valence_change = list(SAM_change_valence.values())\n",
    "arousal_arousal = list(SAM_change_arousal.values())\n",
    "\n",
    "# Combined figure\n",
    "plt.figure()\n",
    "plt.grid()\n",
    "\n",
    "# Axis lines\n",
    "plt.axhline(0, color=\"black\", linestyle = '--', linewidth = \"1.3\", zorder=1)\n",
    "plt.axvline(0, color=\"black\", linestyle = '--', linewidth = \"1.3\", zorder=1)\n",
    "\n",
    "# Align plot\n",
    "plt.xlim(-6,6)\n",
    "plt.ylim(-6,6)\n",
    "\n",
    "plt.xticks(np.arange(-6, 6, step=1))\n",
    "plt.yticks(np.arange(-6, 6, step=1))\n",
    "\n",
    "# Labels\n",
    "plt.xlabel(\"Valence\")\n",
    "plt.ylabel(\"Arousal\")\n",
    "plt.title(\"Final SAM mapped into the valence-arousal plane\")\n",
    "\n",
    "for emotion in emotions:\n",
    "    # plot data\n",
    "    plt.scatter(SAM_after_valence[emotion], SAM_after_arousal[emotion], zorder = 3, label=emotion)\n",
    "    \n",
    "plt.legend()\n",
    "plt.show()\n",
    "\n",
    "\n",
    "# Combined figure change\n",
    "plt.figure()\n",
    "plt.grid()\n",
    "\n",
    "# Axis lines\n",
    "plt.axhline(0, color=\"black\", linestyle = '--', linewidth = \"1.3\", zorder=1)\n",
    "plt.axvline(0, color=\"black\", linestyle = '--', linewidth = \"1.3\", zorder=1)\n",
    "\n",
    "# Align plot\n",
    "plt.xlim(-6,6)\n",
    "plt.ylim(-6,6)\n",
    "\n",
    "plt.xticks(np.arange(-6, 6, step=1))\n",
    "plt.yticks(np.arange(-6, 6, step=1))\n",
    "\n",
    "# Labels\n",
    "plt.xlabel(\"Valence\")\n",
    "plt.ylabel(\"Arousal\")\n",
    "plt.title(\"Change in SAM mapped into the valence-arousal plane\")\n",
    "\n",
    "for emotion in emotions:\n",
    "    # plot data\n",
    "    plt.scatter(SAM_change_valence[emotion], SAM_change_arousal[emotion], zorder = 3, label=emotion)\n",
    "    \n",
    "plt.legend()\n",
    "plt.show()\n",
    "\n",
    "\n",
    "# # Individual figures\n",
    "\n",
    "# plt.figure()\n",
    "\n",
    "# for emotion in emotions:\n",
    "#     plt.subplots()\n",
    "#     plt.grid()\n",
    "    \n",
    "#     # Axis lines\n",
    "#     plt.axhline(0, color=\"black\", linestyle = '--', linewidth = \"1.3\", zorder=1)\n",
    "#     plt.axvline(0, color=\"black\", linestyle = '--', linewidth = \"1.3\", zorder=1)\n",
    "\n",
    "#     # Align plot\n",
    "#     plt.xlim(-5,5)\n",
    "#     plt.ylim(-5,5)\n",
    "\n",
    "#     plt.xticks(np.arange(-5, 5, step=1))\n",
    "#     plt.yticks(np.arange(-5, 5, step=1))\n",
    "\n",
    "#     # Labels\n",
    "#     plt.xlabel(\"Valence\")\n",
    "#     plt.ylabel(\"Arousal\")\n",
    "#     plt.title(emotion)\n",
    "\n",
    "#     # plot data\n",
    "#     plt.scatter(SAM_after_valence[emotion], SAM_after_arousal[emotion], zorder = 3)\n",
    "\n",
    "# plt.show()\n"
   ]
  },
  {
   "cell_type": "code",
   "execution_count": null,
   "id": "60fbae17-0f04-4efd-aa68-70f0698a4eb5",
   "metadata": {},
   "outputs": [],
   "source": []
  }
 ],
 "metadata": {
  "kernelspec": {
   "display_name": "Python 3 (ipykernel)",
   "language": "python",
   "name": "python3"
  },
  "language_info": {
   "codemirror_mode": {
    "name": "ipython",
    "version": 3
   },
   "file_extension": ".py",
   "mimetype": "text/x-python",
   "name": "python",
   "nbconvert_exporter": "python",
   "pygments_lexer": "ipython3",
   "version": "3.8.12"
  }
 },
 "nbformat": 4,
 "nbformat_minor": 5
}
