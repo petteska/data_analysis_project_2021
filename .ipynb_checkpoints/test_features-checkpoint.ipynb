{
 "cells": [
  {
   "cell_type": "code",
   "execution_count": 1,
   "id": "23f3a4ce-b88f-41eb-a2ee-f10a69244e0f",
   "metadata": {},
   "outputs": [],
   "source": [
    "import numpy as np\n",
    "import pandas as pd\n",
    "import os\n",
    "import json\n",
    "import matplotlib.pyplot as plt\n",
    "import sys\n",
    "\n",
    "# Own files\n",
    "sys.path.append('./')\n",
    "import preprocessing\n",
    "import organize_data\n",
    "import utils\n",
    "import features\n",
    "import data_analysis"
   ]
  },
  {
   "cell_type": "markdown",
   "id": "775363b7-c846-42f8-9b47-5f803ed324a5",
   "metadata": {},
   "source": [
    "# Features"
   ]
  },
  {
   "cell_type": "markdown",
   "id": "3623bf6f-c67d-4ccb-bae4-f9bdfae5553e",
   "metadata": {},
   "source": [
    "## Select experiment"
   ]
  },
  {
   "cell_type": "code",
   "execution_count": 2,
   "id": "1cba880d-6285-477e-adfa-c4072b8415b6",
   "metadata": {},
   "outputs": [
    {
     "name": "stdout",
     "output_type": "stream",
     "text": [
      "Here is a list of all the available experiments:\n",
      "0: Experiment_03_11_21\n",
      "1: Experiment_04_11_21\n",
      "2: Experiment_05_11_21\n",
      "3: Experiment_10_11_21\n",
      "4: Experiment_11_11_21_01\n",
      "5: Experiment_11_11_21_02\n",
      "6: Experiment_18_11_21_01\n",
      "7: Experiment_18_11_21_02\n",
      "8: Experiment_19_11_21_01\n",
      "9: Experiment_19_11_21_02\n"
     ]
    }
   ],
   "source": [
    "# Settings pane\n",
    "experiments = utils.get_list_of_experiments()\n",
    "experiments = np.array(experiments)\n",
    "\n",
    "# frequency = 250\n",
    "\n",
    "# dt = 1/frequency\n",
    "\n",
    "print(f\"Here is a list of all the available experiments:\")\n",
    "for i in range(len(experiments)):\n",
    "    print(f\"{i}: {experiments[i]}\")\n",
    "\n",
    "num_experiments = len(experiments)"
   ]
  },
  {
   "cell_type": "code",
   "execution_count": 3,
   "id": "15ef5812-113d-4e29-8417-0b2e7e8be6dd",
   "metadata": {
    "tags": []
   },
   "outputs": [
    {
     "name": "stdout",
     "output_type": "stream",
     "text": [
      "e4_data is now formated\n",
      "Data was succeccfully extracted\n",
      "e4_data is now formated\n",
      "Data was succeccfully extracted\n",
      "e4_data is now formated\n",
      "Data was succeccfully extracted\n",
      "e4_data is now formated\n",
      "Data was succeccfully extracted\n",
      "e4_data is now formated\n",
      "Data was succeccfully extracted\n",
      "e4_data is now formated\n",
      "Data was succeccfully extracted\n",
      "e4_data is now formated\n",
      "Data was succeccfully extracted\n",
      "e4_data is now formated\n",
      "Data was succeccfully extracted\n",
      "e4_data is now formated\n",
      "Data was succeccfully extracted\n",
      "e4_data is now formated\n",
      "Data was succeccfully extracted\n"
     ]
    }
   ],
   "source": [
    "# choose an experiment from the list\n",
    "chosen_experiments = [0,1,2,3,4,5,6,7,8,9]\n",
    "\n",
    "\n",
    "\n",
    "# get EEG and Empatica data:\n",
    "# time_intervals = get_time_intervals(experiments[chosen_experiment])\n",
    "e4_data = []\n",
    "for i in chosen_experiments:\n",
    "    e4_data.append(organize_data.get_e4_data_object(experiments[i]))"
   ]
  },
  {
   "cell_type": "markdown",
   "id": "37b2a4d5-4abb-49d2-ba7b-074224cdf2b0",
   "metadata": {},
   "source": [
    "## Preprocessing"
   ]
  },
  {
   "cell_type": "code",
   "execution_count": 4,
   "id": "0d8d1b74-b5a5-4718-8c9d-c3e90f5c725b",
   "metadata": {},
   "outputs": [
    {
     "name": "stdout",
     "output_type": "stream",
     "text": [
      "Preprocessing data\n",
      "Preprocessing data\n",
      "Preprocessing data\n",
      "Preprocessing data\n",
      "Preprocessing data\n",
      "Preprocessing data\n",
      "Preprocessing data\n",
      "Preprocessing data\n",
      "Preprocessing data\n",
      "Preprocessing data\n"
     ]
    }
   ],
   "source": [
    "# test_data = e4_data[0]\n",
    "preprocessed_data = []\n",
    "for data in e4_data:\n",
    "    preprocessed_data.append(preprocessing.preprocess_e4(data))"
   ]
  },
  {
   "cell_type": "markdown",
   "id": "d58e84f5-91e0-4fea-ac95-082591195c2a",
   "metadata": {},
   "source": [
    "## Feature extraction"
   ]
  },
  {
   "cell_type": "code",
   "execution_count": 5,
   "id": "71358c26-c49d-44b2-9550-b61a9be428f9",
   "metadata": {},
   "outputs": [
    {
     "name": "stdout",
     "output_type": "stream",
     "text": [
      "0\n",
      "Extracting features\n",
      "Finished extracting features\n",
      "1\n",
      "Extracting features\n",
      "Finished extracting features\n",
      "2\n",
      "Extracting features\n",
      "Finished extracting features\n",
      "3\n",
      "Extracting features\n",
      "Finished extracting features\n",
      "4\n",
      "Extracting features\n",
      "Finished extracting features\n",
      "5\n",
      "Extracting features\n",
      "Finished extracting features\n",
      "6\n",
      "Extracting features\n",
      "Finished extracting features\n",
      "7\n",
      "Extracting features\n",
      "Finished extracting features\n",
      "8\n",
      "Extracting features\n",
      "Finished extracting features\n",
      "9\n",
      "Extracting features\n",
      "Finished extracting features\n"
     ]
    }
   ],
   "source": [
    "feature_data = []\n",
    "remove_baseline = False\n",
    "i = 0\n",
    "for data in preprocessed_data:\n",
    "    print(i)\n",
    "    i+=1\n",
    "    sample_feature_data = features.extract_features_e4(data)\n",
    "    if remove_baseline:\n",
    "        sample_feature_data = features.remove_baseline(sample_feature_data)\n",
    "    feature_data.append(sample_feature_data)"
   ]
  },
  {
   "cell_type": "markdown",
   "id": "8eb0a668-c99a-4485-a442-b19adf1fa8d2",
   "metadata": {},
   "source": [
    "## Display features"
   ]
  },
  {
   "cell_type": "code",
   "execution_count": 6,
   "id": "70ca7e22-6e67-4917-aee0-197bfd0c4c89",
   "metadata": {},
   "outputs": [
    {
     "name": "stdout",
     "output_type": "stream",
     "text": [
      "['BVP_MEAN', 'BVP_STD', 'BVP_MEDIAN', 'EDA_MEAN', 'EDA_STD', 'EDA_SLOPE', 'EDA_MAX', 'EDA_MIN', 'EDA_KURTOSIS', 'EDA_SKEWNESS', 'EDA_FD_RMS', 'EDA_FD_MEAN', 'EDA_SD_RMS', 'EDA_SD_MEAN', 'HR_MEAN', 'HR_STD', 'IBI_MEAN', 'IBI_STD', 'IBI_MEDIAN', 'IBI_SEM', 'IBI_FRACJUMPS', 'IBI_RMS', 'TEMP_MEAN', 'TEMP_STD', 'TEMP_MIN', 'TEMP_MAX', 'TEMP_MODE']\n"
     ]
    }
   ],
   "source": [
    "headers = features.get_e4_feature_list_header(feature_data[0])\n",
    "\n",
    "print(headers)"
   ]
  },
  {
   "cell_type": "code",
   "execution_count": 7,
   "id": "805a1ed6-3229-4b81-8807-36c55474a2c5",
   "metadata": {},
   "outputs": [],
   "source": [
    "feature_list = features.get_e4_feature_list(feature_data)"
   ]
  },
  {
   "cell_type": "code",
   "execution_count": 8,
   "id": "d59f2402-bc9c-40a0-b16b-76f9a88c9923",
   "metadata": {},
   "outputs": [],
   "source": [
    "# bs_features = feature_list[\"baseline\"]\n",
    "# print(bs_features)\n",
    "\n",
    "# bs_features = feature_list[\"afraid\"]\n",
    "# print(bs_features[\"HR_MEAN\"])"
   ]
  },
  {
   "cell_type": "markdown",
   "id": "34c457ed-fc04-4875-b441-226027ad270b",
   "metadata": {},
   "source": [
    "## Remove baseline"
   ]
  },
  {
   "cell_type": "code",
   "execution_count": 9,
   "id": "76073091-0b4c-4f26-850c-78feeacf8231",
   "metadata": {},
   "outputs": [],
   "source": [
    "# feature_object_wo_b = features.remove_baseline(feature_data[0])"
   ]
  },
  {
   "cell_type": "code",
   "execution_count": 10,
   "id": "5f88b12c-167c-458f-b845-d31ce8527f47",
   "metadata": {},
   "outputs": [],
   "source": [
    "# print(feature_object_wo_b[\"IBI\"][\"afraid\"][\"RMS\"])"
   ]
  },
  {
   "cell_type": "markdown",
   "id": "348b3ebd-3156-4e71-9e46-baaea8ecf825",
   "metadata": {},
   "source": [
    "## PCA"
   ]
  },
  {
   "cell_type": "code",
   "execution_count": 11,
   "id": "83e52dd0-afee-42e8-b5ab-06579a4d991e",
   "metadata": {},
   "outputs": [
    {
     "name": "stdout",
     "output_type": "stream",
     "text": [
      "['afraid', 'excited', 'relaxed', 'sad']\n",
      "4\n",
      "27\n",
      "10\n",
      "Y: [0. 0. 0. 0. 0. 0. 0. 0. 0. 0. 1. 1. 1. 1. 1. 1. 1. 1. 1. 1. 2. 2. 2. 2.\n",
      " 2. 2. 2. 2. 2. 2. 3. 3. 3. 3. 3. 3. 3. 3. 3. 3.]\n",
      " dim X: (40, 27), dim Y: (40,)\n",
      "loadings_dim: (27, 27)\n",
      "[0.25 0.25 0.25 0.25 0.25]\n",
      "0.25\n",
      "[0.375 0.375 0.375 0.25  0.375]\n",
      "0.35\n",
      "[0.375 0.25  0.375 0.25  0.25 ]\n",
      "0.3\n",
      "[0.375 0.625 0.375 0.5   0.25 ]\n",
      "0.425\n",
      "[0.375 0.625 0.375 0.5   0.375]\n",
      "0.45\n",
      "[0.375 0.625 0.375 0.5   0.375]\n",
      "0.45\n",
      "[0.375 0.5   0.375 0.5   0.375]\n",
      "0.425\n",
      "[0.375 0.5   0.375 0.5   0.375]\n",
      "0.425\n",
      "[0.375 0.5   0.375 0.5   0.375]\n",
      "0.425\n",
      "[0.375 0.625 0.375 0.5   0.375]\n",
      "0.45\n",
      "[0.375 0.625 0.375 0.5   0.375]\n",
      "0.45\n",
      "[0.375 0.625 0.375 0.5   0.375]\n",
      "0.45\n",
      "[0.375 0.5   0.375 0.5   0.375]\n",
      "0.425\n",
      "[0.375 0.625 0.375 0.5   0.375]\n",
      "0.45\n",
      "[0.375 0.625 0.375 0.5   0.375]\n",
      "0.45\n",
      "[0.375 0.625 0.375 0.5   0.375]\n",
      "0.45\n",
      "[0.375 0.5   0.375 0.5   0.375]\n",
      "0.425\n",
      "[0.375 0.625 0.375 0.5   0.375]\n",
      "0.45\n",
      "[0.375 0.625 0.375 0.5   0.375]\n",
      "0.45\n",
      "[0.375 0.625 0.375 0.5   0.375]\n",
      "0.45\n",
      "[0.375 0.625 0.375 0.5   0.375]\n",
      "0.45\n",
      "[0.375 0.625 0.375 0.5   0.375]\n",
      "0.45\n",
      "[0.375 0.625 0.375 0.5   0.375]\n",
      "0.45\n",
      "[0.375 0.625 0.375 0.5   0.375]\n",
      "0.45\n",
      "[0.375 0.625 0.375 0.5   0.375]\n",
      "0.45\n",
      "[0.375 0.625 0.375 0.5   0.375]\n",
      "0.45\n",
      "[0.375 0.625 0.375 0.5   0.375]\n",
      "0.45\n",
      "Best_deg: 5, best_score: 0.45\n"
     ]
    },
    {
     "data": {
      "image/png": "[encoded data removed]",
      "text/plain": [
       "<Figure size 432x288 with 2 Axes>"
      ]
     },
     "metadata": {
      "needs_background": "light"
     },
     "output_type": "display_data"
    },
    {
     "data": {
      "image/png": "[encoded data removed]",
      "text/plain": [
       "<Figure size 432x288 with 1 Axes>"
      ]
     },
     "metadata": {
      "needs_background": "light"
     },
     "output_type": "display_data"
    }
   ],
   "source": [
    "data_analysis.get_pca_data(feature_list, plot_heatmap = True, num_components=27)\n",
    "\n",
    "# print(loadings.shape)\n"
   ]
  }
 ],
 "metadata": {
  "kernelspec": {
   "display_name": "Python 3 (ipykernel)",
   "language": "python",
   "name": "python3"
  },
  "language_info": {
   "codemirror_mode": {
    "name": "ipython",
    "version": 3
   },
   "file_extension": ".py",
   "mimetype": "text/x-python",
   "name": "python",
   "nbconvert_exporter": "python",
   "pygments_lexer": "ipython3",
   "version": "3.8.12"
  }
 },
 "nbformat": 4,
 "nbformat_minor": 5
}
